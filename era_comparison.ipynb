{
 "cells": [
  {
   "cell_type": "code",
   "execution_count": null,
   "id": "ce001639-967a-4334-abd8-19c1a7ea97b9",
   "metadata": {
    "gradient": {
     "id": "ce001639-967a-4334-abd8-19c1a7ea97b9",
     "kernelId": "5d88e8f8-e278-4716-bc61-6fbffda985f3"
    }
   },
   "outputs": [],
   "source": [
    "!pip install halo pyarrow numerapi lightgbm tabulate optuna\n",
    "\n",
    "import os\n",
    "from halo import Halo\n",
    "import json\n",
    "import gc\n",
    "import numpy as np\n",
    "import pandas as pd\n",
    "import pyarrow.parquet as pq\n",
    "import numerapi\n",
    "import lightgbm\n",
    "from sklearn.model_selection import KFold\n",
    "from scipy.stats import spearmanr\n",
    "from tqdm import tqdm\n",
    "\n",
    "import warnings\n",
    "warnings.simplefilter(action='ignore', category=FutureWarning)\n",
    "\n",
    "from utils import (\n",
    "    save_model,\n",
    "    load_model,\n",
    "    neutralize,\n",
    "    get_biggest_change_features,\n",
    "    get_time_series_cross_val_splits,\n",
    "    validation_metrics,\n",
    "    ERA_COL,\n",
    "    DATA_TYPE_COL,\n",
    "    TARGET_COL,\n",
    "    EXAMPLE_PREDS_COL\n",
    ")\n",
    "\n",
    "from metrics import evaluate\n",
    "\n",
    "from numerapi import NumerAPI\n",
    "napi = NumerAPI()\n",
    "\n",
    "current_round = napi.get_current_round(tournament=8)  # tournament 8 is the primary Numerai Tournament\n",
    "\n",
    "# Tournament data changes every week so we specify the round in their name. Training\n",
    "# and validation data only change periodically, so no need to download them every time.\n",
    "print('Downloading dataset files...')\n",
    "napi.download_dataset(\"numerai_training_data_int8.parquet\", \"training_data_int8.parquet\")\n",
    "# napi.download_dataset(\"numerai_tournament_data_int8.parquet\", f\"tournament_data_int8_{current_round}.parquet\")\n",
    "# napi.download_dataset(\"numerai_validation_data_int8.parquet\", f\"validation_data_int8.parquet\")\n",
    "# napi.download_dataset(\"example_validation_predictions.parquet\", \"example_validation_predictions.parquet\")\n",
    "napi.download_dataset(\"features.json\", \"features.json\")\n",
    "\n",
    "with open(\"features.json\", \"r\") as f:\n",
    "    feature_metadata = json.load(f)\n",
    "\n",
    "features_small = set(feature_metadata[\"feature_sets\"][\"small\"])\n",
    "features_medium = set(feature_metadata[\"feature_sets\"][\"medium\"])\n",
    "\n",
    "in_medium_not_in_small = features_medium - features_small\n",
    "features = list(features_small) + list(in_medium_not_in_small)\n",
    "\n",
    "train_pq_path = \"training_data_int8.parquet\"\n",
    "\n",
    "# read in just those features along with era and target columns\n",
    "read_columns = features + [ERA_COL, DATA_TYPE_COL, TARGET_COL]\n",
    "df_train = pd.read_parquet(train_pq_path, columns=read_columns)\n",
    "\n",
    "eras = df_train.era.astype(int)\n",
    "df_train[\"era\"] = eras\n",
    "\n",
    "training_data = df_train\n",
    "gc.collect()"
   ]
  },
  {
   "cell_type": "code",
   "execution_count": null,
   "id": "00f6179e-cf6d-4e52-9a03-3605eae73e71",
   "metadata": {
    "gradient": {
     "execution_count": 6,
     "id": "00f6179e-cf6d-4e52-9a03-3605eae73e71",
     "kernelId": "5d88e8f8-e278-4716-bc61-6fbffda985f3"
    }
   },
   "outputs": [
    {
     "name": "stdout",
     "output_type": "stream",
     "text": [
      "\r"
     ]
    }
   ],
   "source": [
    "eras = df_train[\"era\"]"
   ]
  },
  {
   "cell_type": "code",
   "execution_count": null,
   "id": "7c4aa433-aa27-4263-a103-7da73c5c7a00",
   "metadata": {
    "gradient": {
     "execution_count": 9,
     "id": "7c4aa433-aa27-4263-a103-7da73c5c7a00",
     "kernelId": "5d88e8f8-e278-4716-bc61-6fbffda985f3"
    }
   },
   "outputs": [
    {
     "data": {
      "text/plain": [
       "id\n",
       "n003bba8a98662e4     0\n",
       "n003bee128c2fcfc     0\n",
       "n0048ac83aff7194     0\n",
       "n00691bec80d3e02     0\n",
       "n00b8720a2fdc4f2     0\n",
       "                    ..\n",
       "nffcc1dbdf2212e6    11\n",
       "nffd71b7f6a128df    11\n",
       "nffde3b371d67394    11\n",
       "nfff1a1111b35e84    11\n",
       "nfff2bd38e397265    11\n",
       "Name: era, Length: 2412105, dtype: int64"
      ]
     },
     "execution_count": 9,
     "metadata": {},
     "output_type": "execute_result"
    },
    {
     "name": "stdout",
     "output_type": "stream",
     "text": [
      "\r"
     ]
    }
   ],
   "source": [
    "# creates era groups \n",
    "era_groups_50 = (eras // 50)\n",
    "era_groups_50"
   ]
  },
  {
   "cell_type": "code",
   "execution_count": null,
   "id": "e5993ffd-911c-4483-bbca-953c1dd08256",
   "metadata": {
    "gradient": {
     "execution_count": 13,
     "id": "e5993ffd-911c-4483-bbca-953c1dd08256",
     "kernelId": "5d88e8f8-e278-4716-bc61-6fbffda985f3"
    }
   },
   "outputs": [
    {
     "name": "stdout",
     "output_type": "stream",
     "text": [
      "\r"
     ]
    }
   ],
   "source": [
    "from sklearn.linear_model import LinearRegression"
   ]
  },
  {
   "cell_type": "code",
   "execution_count": null,
   "id": "3b5e7e58-ff5f-4e95-80ae-404eb55225c5",
   "metadata": {
    "gradient": {
     "editing": false,
     "execution_count": 18,
     "id": "3b5e7e58-ff5f-4e95-80ae-404eb55225c5",
     "kernelId": "5d88e8f8-e278-4716-bc61-6fbffda985f3"
    }
   },
   "outputs": [
    {
     "name": "stdout",
     "output_type": "stream",
     "text": [
      "0\n",
      "1\n",
      "2\n",
      "3\n",
      "4\n",
      "5\n",
      "6\n",
      "7\n",
      "8\n",
      "9\n",
      "10\n",
      "11\n",
      "\r"
     ]
    }
   ],
   "source": [
    "results50 = []\n",
    "for train_era, tdf in training_data.groupby(era_groups_50):\n",
    "    print(train_era)\n",
    "    model = LinearRegression()\n",
    "    model.fit(tdf[features], tdf[TARGET_COL])\n",
    "    for test_era, tdf in training_data.groupby(era_groups_50):\n",
    "        results50.append([\n",
    "            train_era,\n",
    "            test_era,\n",
    "            np.corrcoef(tdf[TARGET_COL], model.predict(tdf[features]))[0][1]\n",
    "        ])"
   ]
  },
  {
   "cell_type": "code",
   "execution_count": null,
   "id": "14c797b0-fe76-4654-9a17-5bf88440d29a",
   "metadata": {
    "gradient": {
     "editing": false,
     "execution_count": 21,
     "id": "14c797b0-fe76-4654-9a17-5bf88440d29a",
     "kernelId": "5d88e8f8-e278-4716-bc61-6fbffda985f3"
    }
   },
   "outputs": [
    {
     "name": "stdout",
     "output_type": "stream",
     "text": [
      "\r"
     ]
    }
   ],
   "source": [
    "for result in results50:\n",
    "    result[2] = result[2][0][1]"
   ]
  },
  {
   "cell_type": "code",
   "execution_count": null,
   "id": "64c88745-d0df-4dc8-93a7-9021bb4aeded",
   "metadata": {
    "gradient": {
     "editing": false,
     "execution_count": 23,
     "id": "64c88745-d0df-4dc8-93a7-9021bb4aeded",
     "kernelId": "5d88e8f8-e278-4716-bc61-6fbffda985f3"
    }
   },
   "outputs": [
    {
     "data": {
      "text/html": [
       "<div>\n",
       "<style scoped>\n",
       "    .dataframe tbody tr th:only-of-type {\n",
       "        vertical-align: middle;\n",
       "    }\n",
       "\n",
       "    .dataframe tbody tr th {\n",
       "        vertical-align: top;\n",
       "    }\n",
       "\n",
       "    .dataframe thead th {\n",
       "        text-align: right;\n",
       "    }\n",
       "</style>\n",
       "<table border=\"1\" class=\"dataframe\">\n",
       "  <thead>\n",
       "    <tr style=\"text-align: right;\">\n",
       "      <th>test_era</th>\n",
       "      <th>0</th>\n",
       "      <th>1</th>\n",
       "      <th>2</th>\n",
       "      <th>3</th>\n",
       "      <th>4</th>\n",
       "      <th>5</th>\n",
       "      <th>6</th>\n",
       "      <th>7</th>\n",
       "      <th>8</th>\n",
       "      <th>9</th>\n",
       "      <th>10</th>\n",
       "      <th>11</th>\n",
       "    </tr>\n",
       "    <tr>\n",
       "      <th>train_era</th>\n",
       "      <th></th>\n",
       "      <th></th>\n",
       "      <th></th>\n",
       "      <th></th>\n",
       "      <th></th>\n",
       "      <th></th>\n",
       "      <th></th>\n",
       "      <th></th>\n",
       "      <th></th>\n",
       "      <th></th>\n",
       "      <th></th>\n",
       "      <th></th>\n",
       "    </tr>\n",
       "  </thead>\n",
       "  <tbody>\n",
       "    <tr>\n",
       "      <th>0</th>\n",
       "      <td>0.142712</td>\n",
       "      <td>0.001675</td>\n",
       "      <td>-0.004287</td>\n",
       "      <td>-0.000451</td>\n",
       "      <td>0.000811</td>\n",
       "      <td>0.002499</td>\n",
       "      <td>-0.003731</td>\n",
       "      <td>-0.000972</td>\n",
       "      <td>-0.005259</td>\n",
       "      <td>-0.004380</td>\n",
       "      <td>-0.002052</td>\n",
       "      <td>0.004319</td>\n",
       "    </tr>\n",
       "    <tr>\n",
       "      <th>1</th>\n",
       "      <td>0.064007</td>\n",
       "      <td>0.122238</td>\n",
       "      <td>0.042833</td>\n",
       "      <td>0.042819</td>\n",
       "      <td>0.030373</td>\n",
       "      <td>0.012702</td>\n",
       "      <td>0.031961</td>\n",
       "      <td>0.036156</td>\n",
       "      <td>0.033025</td>\n",
       "      <td>0.034990</td>\n",
       "      <td>0.033364</td>\n",
       "      <td>0.031643</td>\n",
       "    </tr>\n",
       "    <tr>\n",
       "      <th>2</th>\n",
       "      <td>0.057595</td>\n",
       "      <td>0.050565</td>\n",
       "      <td>0.112635</td>\n",
       "      <td>0.051713</td>\n",
       "      <td>0.037496</td>\n",
       "      <td>0.009663</td>\n",
       "      <td>0.027165</td>\n",
       "      <td>0.029809</td>\n",
       "      <td>0.034304</td>\n",
       "      <td>0.027929</td>\n",
       "      <td>0.025737</td>\n",
       "      <td>0.022360</td>\n",
       "    </tr>\n",
       "    <tr>\n",
       "      <th>3</th>\n",
       "      <td>0.045954</td>\n",
       "      <td>0.045773</td>\n",
       "      <td>0.051466</td>\n",
       "      <td>0.112320</td>\n",
       "      <td>0.040868</td>\n",
       "      <td>0.012318</td>\n",
       "      <td>0.041645</td>\n",
       "      <td>0.043169</td>\n",
       "      <td>0.033802</td>\n",
       "      <td>0.027210</td>\n",
       "      <td>0.028978</td>\n",
       "      <td>0.024780</td>\n",
       "    </tr>\n",
       "    <tr>\n",
       "      <th>4</th>\n",
       "      <td>0.038798</td>\n",
       "      <td>0.034977</td>\n",
       "      <td>0.039421</td>\n",
       "      <td>0.042512</td>\n",
       "      <td>0.114829</td>\n",
       "      <td>0.016534</td>\n",
       "      <td>0.028671</td>\n",
       "      <td>0.030487</td>\n",
       "      <td>0.040408</td>\n",
       "      <td>0.027490</td>\n",
       "      <td>0.036682</td>\n",
       "      <td>0.035221</td>\n",
       "    </tr>\n",
       "    <tr>\n",
       "      <th>5</th>\n",
       "      <td>0.019065</td>\n",
       "      <td>0.022110</td>\n",
       "      <td>0.016954</td>\n",
       "      <td>0.020297</td>\n",
       "      <td>0.026184</td>\n",
       "      <td>0.103316</td>\n",
       "      <td>0.027412</td>\n",
       "      <td>0.011212</td>\n",
       "      <td>0.017619</td>\n",
       "      <td>0.008269</td>\n",
       "      <td>0.018062</td>\n",
       "      <td>0.005953</td>\n",
       "    </tr>\n",
       "    <tr>\n",
       "      <th>6</th>\n",
       "      <td>0.047452</td>\n",
       "      <td>0.032947</td>\n",
       "      <td>0.030161</td>\n",
       "      <td>0.039872</td>\n",
       "      <td>0.026866</td>\n",
       "      <td>0.019422</td>\n",
       "      <td>0.124678</td>\n",
       "      <td>0.032825</td>\n",
       "      <td>0.025474</td>\n",
       "      <td>0.020323</td>\n",
       "      <td>0.029619</td>\n",
       "      <td>0.016679</td>\n",
       "    </tr>\n",
       "    <tr>\n",
       "      <th>7</th>\n",
       "      <td>0.047507</td>\n",
       "      <td>0.042196</td>\n",
       "      <td>0.030493</td>\n",
       "      <td>0.043417</td>\n",
       "      <td>0.031630</td>\n",
       "      <td>0.010995</td>\n",
       "      <td>0.041966</td>\n",
       "      <td>0.105952</td>\n",
       "      <td>0.040634</td>\n",
       "      <td>0.026151</td>\n",
       "      <td>0.024771</td>\n",
       "      <td>0.018963</td>\n",
       "    </tr>\n",
       "    <tr>\n",
       "      <th>8</th>\n",
       "      <td>0.044550</td>\n",
       "      <td>0.035360</td>\n",
       "      <td>0.034865</td>\n",
       "      <td>0.035920</td>\n",
       "      <td>0.039819</td>\n",
       "      <td>0.012835</td>\n",
       "      <td>0.026501</td>\n",
       "      <td>0.033309</td>\n",
       "      <td>0.112102</td>\n",
       "      <td>0.032537</td>\n",
       "      <td>0.027758</td>\n",
       "      <td>0.028048</td>\n",
       "    </tr>\n",
       "    <tr>\n",
       "      <th>9</th>\n",
       "      <td>0.043770</td>\n",
       "      <td>0.037189</td>\n",
       "      <td>0.029529</td>\n",
       "      <td>0.029093</td>\n",
       "      <td>0.022394</td>\n",
       "      <td>0.008021</td>\n",
       "      <td>0.023632</td>\n",
       "      <td>0.026053</td>\n",
       "      <td>0.033949</td>\n",
       "      <td>0.099789</td>\n",
       "      <td>0.031574</td>\n",
       "      <td>0.020779</td>\n",
       "    </tr>\n",
       "    <tr>\n",
       "      <th>10</th>\n",
       "      <td>0.041442</td>\n",
       "      <td>0.037964</td>\n",
       "      <td>0.034190</td>\n",
       "      <td>0.037120</td>\n",
       "      <td>0.041316</td>\n",
       "      <td>0.017889</td>\n",
       "      <td>0.040659</td>\n",
       "      <td>0.026999</td>\n",
       "      <td>0.035851</td>\n",
       "      <td>0.032164</td>\n",
       "      <td>0.105711</td>\n",
       "      <td>0.028799</td>\n",
       "    </tr>\n",
       "    <tr>\n",
       "      <th>11</th>\n",
       "      <td>0.033353</td>\n",
       "      <td>0.028803</td>\n",
       "      <td>0.021091</td>\n",
       "      <td>0.025635</td>\n",
       "      <td>0.030329</td>\n",
       "      <td>0.001885</td>\n",
       "      <td>0.016968</td>\n",
       "      <td>0.018407</td>\n",
       "      <td>0.029587</td>\n",
       "      <td>0.021308</td>\n",
       "      <td>0.026732</td>\n",
       "      <td>0.121304</td>\n",
       "    </tr>\n",
       "  </tbody>\n",
       "</table>\n",
       "</div>"
      ],
      "text/plain": [
       "test_era         0         1         2         3         4         5   \\\n",
       "train_era                                                               \n",
       "0          0.142712  0.001675 -0.004287 -0.000451  0.000811  0.002499   \n",
       "1          0.064007  0.122238  0.042833  0.042819  0.030373  0.012702   \n",
       "2          0.057595  0.050565  0.112635  0.051713  0.037496  0.009663   \n",
       "3          0.045954  0.045773  0.051466  0.112320  0.040868  0.012318   \n",
       "4          0.038798  0.034977  0.039421  0.042512  0.114829  0.016534   \n",
       "5          0.019065  0.022110  0.016954  0.020297  0.026184  0.103316   \n",
       "6          0.047452  0.032947  0.030161  0.039872  0.026866  0.019422   \n",
       "7          0.047507  0.042196  0.030493  0.043417  0.031630  0.010995   \n",
       "8          0.044550  0.035360  0.034865  0.035920  0.039819  0.012835   \n",
       "9          0.043770  0.037189  0.029529  0.029093  0.022394  0.008021   \n",
       "10         0.041442  0.037964  0.034190  0.037120  0.041316  0.017889   \n",
       "11         0.033353  0.028803  0.021091  0.025635  0.030329  0.001885   \n",
       "\n",
       "test_era         6         7         8         9         10        11  \n",
       "train_era                                                              \n",
       "0         -0.003731 -0.000972 -0.005259 -0.004380 -0.002052  0.004319  \n",
       "1          0.031961  0.036156  0.033025  0.034990  0.033364  0.031643  \n",
       "2          0.027165  0.029809  0.034304  0.027929  0.025737  0.022360  \n",
       "3          0.041645  0.043169  0.033802  0.027210  0.028978  0.024780  \n",
       "4          0.028671  0.030487  0.040408  0.027490  0.036682  0.035221  \n",
       "5          0.027412  0.011212  0.017619  0.008269  0.018062  0.005953  \n",
       "6          0.124678  0.032825  0.025474  0.020323  0.029619  0.016679  \n",
       "7          0.041966  0.105952  0.040634  0.026151  0.024771  0.018963  \n",
       "8          0.026501  0.033309  0.112102  0.032537  0.027758  0.028048  \n",
       "9          0.023632  0.026053  0.033949  0.099789  0.031574  0.020779  \n",
       "10         0.040659  0.026999  0.035851  0.032164  0.105711  0.028799  \n",
       "11         0.016968  0.018407  0.029587  0.021308  0.026732  0.121304  "
      ]
     },
     "execution_count": 23,
     "metadata": {},
     "output_type": "execute_result"
    },
    {
     "name": "stdout",
     "output_type": "stream",
     "text": [
      "\r"
     ]
    }
   ],
   "source": [
    "results_df = pd.DataFrame(\n",
    "    results50,\n",
    "    columns=[\"train_era\", \"test_era\", \"score\"]\n",
    ").pivot(index=\"train_era\", columns=\"test_era\", values=\"score\")\n",
    "results_df"
   ]
  },
  {
   "cell_type": "code",
   "execution_count": null,
   "id": "9333d367-46d8-4e1f-9dfd-09cb358ca5fd",
   "metadata": {
    "gradient": {
     "editing": false,
     "execution_count": 24,
     "id": "9333d367-46d8-4e1f-9dfd-09cb358ca5fd",
     "kernelId": "5d88e8f8-e278-4716-bc61-6fbffda985f3"
    }
   },
   "outputs": [
    {
     "name": "stdout",
     "output_type": "stream",
     "text": [
      "\r"
     ]
    }
   ],
   "source": [
    "param_grid = {\n",
    "    'n_estimators': 100, \n",
    "    'learning_rate': 0.01, \n",
    "    'num_leaves': 25, \n",
    "    'max_depth': 6, \n",
    "    'colsample_bytree': 0.1,\n",
    "    \"max_bin\": 50,\n",
    "}"
   ]
  },
  {
   "cell_type": "code",
   "execution_count": null,
   "id": "8c144f2c-fdc3-4677-9da6-09843dc12340",
   "metadata": {
    "gradient": {
     "editing": false,
     "execution_count": 25,
     "id": "8c144f2c-fdc3-4677-9da6-09843dc12340",
     "kernelId": "5d88e8f8-e278-4716-bc61-6fbffda985f3"
    }
   },
   "outputs": [
    {
     "name": "stdout",
     "output_type": "stream",
     "text": [
      "0\n",
      "1\n",
      "2\n",
      "3\n",
      "4\n",
      "5\n",
      "6\n",
      "7\n",
      "8\n",
      "9\n",
      "10\n",
      "11\n",
      "\r"
     ]
    }
   ],
   "source": [
    "results50_lgb = []\n",
    "for train_era, tdf in training_data.groupby(era_groups_50):\n",
    "    print(train_era)\n",
    "    model = lightgbm.LGBMRegressor(**param_grid)\n",
    "    model.fit(tdf[features], tdf[TARGET_COL])\n",
    "    for test_era, tdf in training_data.groupby(era_groups_50):\n",
    "        results50_lgb.append([\n",
    "            train_era,\n",
    "            test_era,\n",
    "            np.corrcoef(tdf[TARGET_COL], model.predict(tdf[features]))[0][1]\n",
    "        ])"
   ]
  },
  {
   "cell_type": "code",
   "execution_count": null,
   "id": "a1b97f23-1bb3-4d26-97d5-dda3ffb5308e",
   "metadata": {
    "gradient": {
     "editing": false,
     "execution_count": 27,
     "id": "a1b97f23-1bb3-4d26-97d5-dda3ffb5308e",
     "kernelId": "5d88e8f8-e278-4716-bc61-6fbffda985f3"
    }
   },
   "outputs": [
    {
     "data": {
      "text/html": [
       "<div>\n",
       "<style scoped>\n",
       "    .dataframe tbody tr th:only-of-type {\n",
       "        vertical-align: middle;\n",
       "    }\n",
       "\n",
       "    .dataframe tbody tr th {\n",
       "        vertical-align: top;\n",
       "    }\n",
       "\n",
       "    .dataframe thead th {\n",
       "        text-align: right;\n",
       "    }\n",
       "</style>\n",
       "<table border=\"1\" class=\"dataframe\">\n",
       "  <thead>\n",
       "    <tr style=\"text-align: right;\">\n",
       "      <th>test_era</th>\n",
       "      <th>0</th>\n",
       "      <th>1</th>\n",
       "      <th>2</th>\n",
       "      <th>3</th>\n",
       "      <th>4</th>\n",
       "      <th>5</th>\n",
       "      <th>6</th>\n",
       "      <th>7</th>\n",
       "      <th>8</th>\n",
       "      <th>9</th>\n",
       "      <th>10</th>\n",
       "      <th>11</th>\n",
       "    </tr>\n",
       "    <tr>\n",
       "      <th>train_era</th>\n",
       "      <th></th>\n",
       "      <th></th>\n",
       "      <th></th>\n",
       "      <th></th>\n",
       "      <th></th>\n",
       "      <th></th>\n",
       "      <th></th>\n",
       "      <th></th>\n",
       "      <th></th>\n",
       "      <th></th>\n",
       "      <th></th>\n",
       "      <th></th>\n",
       "    </tr>\n",
       "  </thead>\n",
       "  <tbody>\n",
       "    <tr>\n",
       "      <th>0</th>\n",
       "      <td>0.247222</td>\n",
       "      <td>0.057658</td>\n",
       "      <td>0.050392</td>\n",
       "      <td>0.056437</td>\n",
       "      <td>0.042267</td>\n",
       "      <td>0.016893</td>\n",
       "      <td>0.045339</td>\n",
       "      <td>0.038797</td>\n",
       "      <td>0.042321</td>\n",
       "      <td>0.027754</td>\n",
       "      <td>0.036427</td>\n",
       "      <td>0.025591</td>\n",
       "    </tr>\n",
       "    <tr>\n",
       "      <th>1</th>\n",
       "      <td>0.077309</td>\n",
       "      <td>0.230865</td>\n",
       "      <td>0.055236</td>\n",
       "      <td>0.052595</td>\n",
       "      <td>0.042839</td>\n",
       "      <td>0.021200</td>\n",
       "      <td>0.048046</td>\n",
       "      <td>0.048773</td>\n",
       "      <td>0.045136</td>\n",
       "      <td>0.035378</td>\n",
       "      <td>0.037461</td>\n",
       "      <td>0.033913</td>\n",
       "    </tr>\n",
       "    <tr>\n",
       "      <th>2</th>\n",
       "      <td>0.066081</td>\n",
       "      <td>0.056908</td>\n",
       "      <td>0.221121</td>\n",
       "      <td>0.060932</td>\n",
       "      <td>0.056890</td>\n",
       "      <td>0.018741</td>\n",
       "      <td>0.047345</td>\n",
       "      <td>0.044011</td>\n",
       "      <td>0.048194</td>\n",
       "      <td>0.032832</td>\n",
       "      <td>0.040893</td>\n",
       "      <td>0.034044</td>\n",
       "    </tr>\n",
       "    <tr>\n",
       "      <th>3</th>\n",
       "      <td>0.067238</td>\n",
       "      <td>0.057585</td>\n",
       "      <td>0.060827</td>\n",
       "      <td>0.213078</td>\n",
       "      <td>0.051110</td>\n",
       "      <td>0.018870</td>\n",
       "      <td>0.049257</td>\n",
       "      <td>0.042705</td>\n",
       "      <td>0.042293</td>\n",
       "      <td>0.034479</td>\n",
       "      <td>0.042328</td>\n",
       "      <td>0.027590</td>\n",
       "    </tr>\n",
       "    <tr>\n",
       "      <th>4</th>\n",
       "      <td>0.061535</td>\n",
       "      <td>0.049327</td>\n",
       "      <td>0.056477</td>\n",
       "      <td>0.057085</td>\n",
       "      <td>0.206905</td>\n",
       "      <td>0.025080</td>\n",
       "      <td>0.037594</td>\n",
       "      <td>0.042903</td>\n",
       "      <td>0.047450</td>\n",
       "      <td>0.025076</td>\n",
       "      <td>0.047345</td>\n",
       "      <td>0.037822</td>\n",
       "    </tr>\n",
       "    <tr>\n",
       "      <th>5</th>\n",
       "      <td>0.017545</td>\n",
       "      <td>0.024345</td>\n",
       "      <td>0.019552</td>\n",
       "      <td>0.020445</td>\n",
       "      <td>0.028568</td>\n",
       "      <td>0.202864</td>\n",
       "      <td>0.027865</td>\n",
       "      <td>0.019878</td>\n",
       "      <td>0.019914</td>\n",
       "      <td>0.012781</td>\n",
       "      <td>0.017049</td>\n",
       "      <td>0.009896</td>\n",
       "    </tr>\n",
       "    <tr>\n",
       "      <th>6</th>\n",
       "      <td>0.057439</td>\n",
       "      <td>0.049720</td>\n",
       "      <td>0.042004</td>\n",
       "      <td>0.043396</td>\n",
       "      <td>0.035104</td>\n",
       "      <td>0.023715</td>\n",
       "      <td>0.222191</td>\n",
       "      <td>0.040899</td>\n",
       "      <td>0.035219</td>\n",
       "      <td>0.032435</td>\n",
       "      <td>0.035809</td>\n",
       "      <td>0.018994</td>\n",
       "    </tr>\n",
       "    <tr>\n",
       "      <th>7</th>\n",
       "      <td>0.057052</td>\n",
       "      <td>0.051996</td>\n",
       "      <td>0.042600</td>\n",
       "      <td>0.045804</td>\n",
       "      <td>0.045749</td>\n",
       "      <td>0.023952</td>\n",
       "      <td>0.043213</td>\n",
       "      <td>0.213772</td>\n",
       "      <td>0.051078</td>\n",
       "      <td>0.034280</td>\n",
       "      <td>0.034456</td>\n",
       "      <td>0.032923</td>\n",
       "    </tr>\n",
       "    <tr>\n",
       "      <th>8</th>\n",
       "      <td>0.053728</td>\n",
       "      <td>0.048513</td>\n",
       "      <td>0.046197</td>\n",
       "      <td>0.044854</td>\n",
       "      <td>0.048526</td>\n",
       "      <td>0.016464</td>\n",
       "      <td>0.036220</td>\n",
       "      <td>0.047124</td>\n",
       "      <td>0.210684</td>\n",
       "      <td>0.041393</td>\n",
       "      <td>0.038536</td>\n",
       "      <td>0.035788</td>\n",
       "    </tr>\n",
       "    <tr>\n",
       "      <th>9</th>\n",
       "      <td>0.040503</td>\n",
       "      <td>0.046635</td>\n",
       "      <td>0.042004</td>\n",
       "      <td>0.044760</td>\n",
       "      <td>0.034724</td>\n",
       "      <td>0.017167</td>\n",
       "      <td>0.036320</td>\n",
       "      <td>0.037437</td>\n",
       "      <td>0.047053</td>\n",
       "      <td>0.222294</td>\n",
       "      <td>0.043420</td>\n",
       "      <td>0.027307</td>\n",
       "    </tr>\n",
       "    <tr>\n",
       "      <th>10</th>\n",
       "      <td>0.049168</td>\n",
       "      <td>0.039498</td>\n",
       "      <td>0.040892</td>\n",
       "      <td>0.039781</td>\n",
       "      <td>0.046002</td>\n",
       "      <td>0.021729</td>\n",
       "      <td>0.035388</td>\n",
       "      <td>0.032967</td>\n",
       "      <td>0.037067</td>\n",
       "      <td>0.034387</td>\n",
       "      <td>0.222640</td>\n",
       "      <td>0.039124</td>\n",
       "    </tr>\n",
       "    <tr>\n",
       "      <th>11</th>\n",
       "      <td>0.040405</td>\n",
       "      <td>0.035271</td>\n",
       "      <td>0.038215</td>\n",
       "      <td>0.030910</td>\n",
       "      <td>0.040945</td>\n",
       "      <td>0.000812</td>\n",
       "      <td>0.020782</td>\n",
       "      <td>0.029555</td>\n",
       "      <td>0.040857</td>\n",
       "      <td>0.018977</td>\n",
       "      <td>0.034428</td>\n",
       "      <td>0.322547</td>\n",
       "    </tr>\n",
       "  </tbody>\n",
       "</table>\n",
       "</div>"
      ],
      "text/plain": [
       "test_era         0         1         2         3         4         5   \\\n",
       "train_era                                                               \n",
       "0          0.247222  0.057658  0.050392  0.056437  0.042267  0.016893   \n",
       "1          0.077309  0.230865  0.055236  0.052595  0.042839  0.021200   \n",
       "2          0.066081  0.056908  0.221121  0.060932  0.056890  0.018741   \n",
       "3          0.067238  0.057585  0.060827  0.213078  0.051110  0.018870   \n",
       "4          0.061535  0.049327  0.056477  0.057085  0.206905  0.025080   \n",
       "5          0.017545  0.024345  0.019552  0.020445  0.028568  0.202864   \n",
       "6          0.057439  0.049720  0.042004  0.043396  0.035104  0.023715   \n",
       "7          0.057052  0.051996  0.042600  0.045804  0.045749  0.023952   \n",
       "8          0.053728  0.048513  0.046197  0.044854  0.048526  0.016464   \n",
       "9          0.040503  0.046635  0.042004  0.044760  0.034724  0.017167   \n",
       "10         0.049168  0.039498  0.040892  0.039781  0.046002  0.021729   \n",
       "11         0.040405  0.035271  0.038215  0.030910  0.040945  0.000812   \n",
       "\n",
       "test_era         6         7         8         9         10        11  \n",
       "train_era                                                              \n",
       "0          0.045339  0.038797  0.042321  0.027754  0.036427  0.025591  \n",
       "1          0.048046  0.048773  0.045136  0.035378  0.037461  0.033913  \n",
       "2          0.047345  0.044011  0.048194  0.032832  0.040893  0.034044  \n",
       "3          0.049257  0.042705  0.042293  0.034479  0.042328  0.027590  \n",
       "4          0.037594  0.042903  0.047450  0.025076  0.047345  0.037822  \n",
       "5          0.027865  0.019878  0.019914  0.012781  0.017049  0.009896  \n",
       "6          0.222191  0.040899  0.035219  0.032435  0.035809  0.018994  \n",
       "7          0.043213  0.213772  0.051078  0.034280  0.034456  0.032923  \n",
       "8          0.036220  0.047124  0.210684  0.041393  0.038536  0.035788  \n",
       "9          0.036320  0.037437  0.047053  0.222294  0.043420  0.027307  \n",
       "10         0.035388  0.032967  0.037067  0.034387  0.222640  0.039124  \n",
       "11         0.020782  0.029555  0.040857  0.018977  0.034428  0.322547  "
      ]
     },
     "execution_count": 27,
     "metadata": {},
     "output_type": "execute_result"
    },
    {
     "name": "stdout",
     "output_type": "stream",
     "text": [
      "\r"
     ]
    }
   ],
   "source": [
    "results_df_lgb = pd.DataFrame(\n",
    "    results50_lgb,\n",
    "    columns=[\"train_era\", \"test_era\", \"score\"]\n",
    ").pivot(index=\"train_era\", columns=\"test_era\", values=\"score\")\n",
    "results_df_lgb"
   ]
  },
  {
   "cell_type": "code",
   "execution_count": null,
   "id": "d59a3af6-1967-42eb-9f0c-ab3ddd8c783f",
   "metadata": {
    "gradient": {
     "editing": false,
     "execution_count": 28,
     "id": "d59a3af6-1967-42eb-9f0c-ab3ddd8c783f",
     "kernelId": "5d88e8f8-e278-4716-bc61-6fbffda985f3"
    }
   },
   "outputs": [
    {
     "data": {
      "text/plain": [
       "<matplotlib.image.AxesImage at 0x7fd54ec2ee80>"
      ]
     },
     "execution_count": 28,
     "metadata": {},
     "output_type": "execute_result"
    },
    {
     "data": {
      "image/png": "[encoded data removed]",
      "text/plain": [
       "<Figure size 1080x1080 with 1 Axes>"
      ]
     },
     "metadata": {
      "needs_background": "light"
     },
     "output_type": "display_data"
    },
    {
     "name": "stdout",
     "output_type": "stream",
     "text": [
      "\r"
     ]
    }
   ],
   "source": [
    "import matplotlib.pyplot as plt\n",
    "\n",
    "plt.figure(figsize=(15,15))\n",
    "plt.imshow(results_df, vmin=-0.04, vmax=0.04, cmap=\"RdYlGn\")"
   ]
  },
  {
   "cell_type": "code",
   "execution_count": null,
   "id": "494cb653-51b6-4dd0-9c9b-35b19a8d4c4a",
   "metadata": {
    "gradient": {
     "editing": false,
     "execution_count": 29,
     "id": "494cb653-51b6-4dd0-9c9b-35b19a8d4c4a",
     "kernelId": "5d88e8f8-e278-4716-bc61-6fbffda985f3"
    }
   },
   "outputs": [
    {
     "data": {
      "text/plain": [
       "<matplotlib.image.AxesImage at 0x7fd54eb27b20>"
      ]
     },
     "execution_count": 29,
     "metadata": {},
     "output_type": "execute_result"
    },
    {
     "data": {
      "image/png": "[encoded data removed]",
      "text/plain": [
       "<Figure size 1080x1080 with 1 Axes>"
      ]
     },
     "metadata": {
      "needs_background": "light"
     },
     "output_type": "display_data"
    },
    {
     "name": "stdout",
     "output_type": "stream",
     "text": [
      "\r"
     ]
    }
   ],
   "source": [
    "plt.figure(figsize=(15,15))\n",
    "plt.imshow(results_df_lgb, vmin=-0.04, vmax=0.04, cmap=\"RdYlGn\")"
   ]
  },
  {
   "cell_type": "markdown",
   "id": "6411f6a7-0c11-4e07-97d7-6fc96037cad0",
   "metadata": {
    "gradient": {
     "editing": false,
     "id": "6411f6a7-0c11-4e07-97d7-6fc96037cad0",
     "kernelId": "5d88e8f8-e278-4716-bc61-6fbffda985f3"
    },
    "jp-MarkdownHeadingCollapsed": true,
    "tags": []
   },
   "source": [
    "## Observations\n",
    " I see that for the linear model, the eras in group 0 (1-50) have little predictive power on any other group \\\n",
    " So, there might not be any linear relationship between group 0 and the others \\\n",
    " On both plots, era group 5 (250-300) does not generalize well when trained on, and is hard to predict by any other group"
   ]
  },
  {
   "cell_type": "code",
   "execution_count": null,
   "id": "0485c20b-35ee-4766-9984-7d93610f01d2",
   "metadata": {
    "gradient": {
     "editing": false,
     "execution_count": 30,
     "id": "0485c20b-35ee-4766-9984-7d93610f01d2",
     "kernelId": "5d88e8f8-e278-4716-bc61-6fbffda985f3"
    }
   },
   "outputs": [
    {
     "name": "stdout",
     "output_type": "stream",
     "text": [
      "\r"
     ]
    }
   ],
   "source": [
    "eras = eras[eras.isin(np.arange(1, 575, 4))]\n",
    "eras_sub = (eras-1)//4"
   ]
  },
  {
   "cell_type": "code",
   "execution_count": null,
   "id": "1cc64b18-74c3-4cb7-8058-ee3ad789e5b1",
   "metadata": {
    "gradient": {
     "editing": false,
     "execution_count": 42,
     "id": "1cc64b18-74c3-4cb7-8058-ee3ad789e5b1",
     "kernelId": "5d88e8f8-e278-4716-bc61-6fbffda985f3"
    }
   },
   "outputs": [
    {
     "data": {
      "text/plain": [
       "4    71000\n",
       "7    69251\n",
       "8    67610\n",
       "3    67268\n",
       "6    66300\n",
       "5    61933\n",
       "2    61333\n",
       "1    54214\n",
       "0    42920\n",
       "9    42282\n",
       "Name: era, dtype: int64"
      ]
     },
     "execution_count": 42,
     "metadata": {},
     "output_type": "execute_result"
    },
    {
     "name": "stdout",
     "output_type": "stream",
     "text": [
      "\r"
     ]
    }
   ],
   "source": [
    "# creates era groups \n",
    "era_groups_15 = (eras_sub // 15)\n",
    "era_groups_15.value_counts()"
   ]
  },
  {
   "cell_type": "code",
   "execution_count": null,
   "id": "1d290022-3974-4115-a295-96eb4228e1b4",
   "metadata": {
    "gradient": {
     "editing": false,
     "execution_count": 32,
     "id": "1d290022-3974-4115-a295-96eb4228e1b4",
     "kernelId": "5d88e8f8-e278-4716-bc61-6fbffda985f3"
    }
   },
   "outputs": [
    {
     "name": "stdout",
     "output_type": "stream",
     "text": [
      "0.0\n",
      "1.0\n",
      "2.0\n",
      "3.0\n",
      "4.0\n",
      "5.0\n",
      "6.0\n",
      "7.0\n",
      "8.0\n",
      "9.0\n",
      "\r"
     ]
    }
   ],
   "source": [
    "results15_linear = []\n",
    "for train_era, tdf in training_data.groupby(era_groups_15):\n",
    "    print(train_era)\n",
    "    model = LinearRegression()\n",
    "    model.fit(tdf[features], tdf[TARGET_COL])\n",
    "    for test_era, tdf in training_data.groupby(era_groups_15):\n",
    "        results15_linear.append([\n",
    "            train_era,\n",
    "            test_era,\n",
    "            np.corrcoef(tdf[TARGET_COL], model.predict(tdf[features]))[0][1]\n",
    "        ])"
   ]
  },
  {
   "cell_type": "code",
   "execution_count": null,
   "id": "364e849b-5bb4-49d2-8ae6-87586fcaba21",
   "metadata": {
    "gradient": {
     "editing": false,
     "execution_count": 38,
     "id": "364e849b-5bb4-49d2-8ae6-87586fcaba21",
     "kernelId": "5d88e8f8-e278-4716-bc61-6fbffda985f3"
    }
   },
   "outputs": [
    {
     "data": {
      "text/html": [
       "<div>\n",
       "<style scoped>\n",
       "    .dataframe tbody tr th:only-of-type {\n",
       "        vertical-align: middle;\n",
       "    }\n",
       "\n",
       "    .dataframe tbody tr th {\n",
       "        vertical-align: top;\n",
       "    }\n",
       "\n",
       "    .dataframe thead th {\n",
       "        text-align: right;\n",
       "    }\n",
       "</style>\n",
       "<table border=\"1\" class=\"dataframe\">\n",
       "  <thead>\n",
       "    <tr style=\"text-align: right;\">\n",
       "      <th>test_era</th>\n",
       "      <th>0.0</th>\n",
       "      <th>1.0</th>\n",
       "      <th>2.0</th>\n",
       "      <th>3.0</th>\n",
       "      <th>4.0</th>\n",
       "      <th>5.0</th>\n",
       "      <th>6.0</th>\n",
       "      <th>7.0</th>\n",
       "      <th>8.0</th>\n",
       "      <th>9.0</th>\n",
       "    </tr>\n",
       "    <tr>\n",
       "      <th>train_era</th>\n",
       "      <th></th>\n",
       "      <th></th>\n",
       "      <th></th>\n",
       "      <th></th>\n",
       "      <th></th>\n",
       "      <th></th>\n",
       "      <th></th>\n",
       "      <th></th>\n",
       "      <th></th>\n",
       "      <th></th>\n",
       "    </tr>\n",
       "  </thead>\n",
       "  <tbody>\n",
       "    <tr>\n",
       "      <th>0.0</th>\n",
       "      <td>0.143808</td>\n",
       "      <td>-0.000806</td>\n",
       "      <td>0.000824</td>\n",
       "      <td>0.000188</td>\n",
       "      <td>-0.001430</td>\n",
       "      <td>0.002252</td>\n",
       "      <td>-0.000944</td>\n",
       "      <td>0.004368</td>\n",
       "      <td>-0.002137</td>\n",
       "      <td>-0.001903</td>\n",
       "    </tr>\n",
       "    <tr>\n",
       "      <th>1.0</th>\n",
       "      <td>0.060162</td>\n",
       "      <td>0.121323</td>\n",
       "      <td>0.039606</td>\n",
       "      <td>0.034177</td>\n",
       "      <td>0.018525</td>\n",
       "      <td>0.028195</td>\n",
       "      <td>0.032495</td>\n",
       "      <td>0.031023</td>\n",
       "      <td>0.036293</td>\n",
       "      <td>0.023989</td>\n",
       "    </tr>\n",
       "    <tr>\n",
       "      <th>2.0</th>\n",
       "      <td>0.049540</td>\n",
       "      <td>0.042736</td>\n",
       "      <td>0.114000</td>\n",
       "      <td>0.044505</td>\n",
       "      <td>0.013907</td>\n",
       "      <td>0.039354</td>\n",
       "      <td>0.036806</td>\n",
       "      <td>0.020589</td>\n",
       "      <td>0.027494</td>\n",
       "      <td>0.027639</td>\n",
       "    </tr>\n",
       "    <tr>\n",
       "      <th>3.0</th>\n",
       "      <td>0.037899</td>\n",
       "      <td>0.038112</td>\n",
       "      <td>0.045665</td>\n",
       "      <td>0.110567</td>\n",
       "      <td>0.022557</td>\n",
       "      <td>0.030157</td>\n",
       "      <td>0.042965</td>\n",
       "      <td>0.024353</td>\n",
       "      <td>0.036091</td>\n",
       "      <td>0.025125</td>\n",
       "    </tr>\n",
       "    <tr>\n",
       "      <th>4.0</th>\n",
       "      <td>0.020030</td>\n",
       "      <td>0.022599</td>\n",
       "      <td>0.018177</td>\n",
       "      <td>0.028908</td>\n",
       "      <td>0.107088</td>\n",
       "      <td>0.024231</td>\n",
       "      <td>0.016406</td>\n",
       "      <td>0.015862</td>\n",
       "      <td>0.016945</td>\n",
       "      <td>0.019393</td>\n",
       "    </tr>\n",
       "    <tr>\n",
       "      <th>5.0</th>\n",
       "      <td>0.045415</td>\n",
       "      <td>0.029621</td>\n",
       "      <td>0.039375</td>\n",
       "      <td>0.027686</td>\n",
       "      <td>0.019383</td>\n",
       "      <td>0.124721</td>\n",
       "      <td>0.033950</td>\n",
       "      <td>0.024111</td>\n",
       "      <td>0.024237</td>\n",
       "      <td>0.020672</td>\n",
       "    </tr>\n",
       "    <tr>\n",
       "      <th>6.0</th>\n",
       "      <td>0.057582</td>\n",
       "      <td>0.035927</td>\n",
       "      <td>0.035248</td>\n",
       "      <td>0.041284</td>\n",
       "      <td>0.014665</td>\n",
       "      <td>0.039535</td>\n",
       "      <td>0.111763</td>\n",
       "      <td>0.035009</td>\n",
       "      <td>0.030193</td>\n",
       "      <td>0.018332</td>\n",
       "    </tr>\n",
       "    <tr>\n",
       "      <th>7.0</th>\n",
       "      <td>0.034167</td>\n",
       "      <td>0.033193</td>\n",
       "      <td>0.022555</td>\n",
       "      <td>0.023080</td>\n",
       "      <td>0.014727</td>\n",
       "      <td>0.025765</td>\n",
       "      <td>0.034714</td>\n",
       "      <td>0.102627</td>\n",
       "      <td>0.036306</td>\n",
       "      <td>0.020604</td>\n",
       "    </tr>\n",
       "    <tr>\n",
       "      <th>8.0</th>\n",
       "      <td>0.047096</td>\n",
       "      <td>0.043263</td>\n",
       "      <td>0.029539</td>\n",
       "      <td>0.036681</td>\n",
       "      <td>0.015168</td>\n",
       "      <td>0.031664</td>\n",
       "      <td>0.034829</td>\n",
       "      <td>0.038023</td>\n",
       "      <td>0.105180</td>\n",
       "      <td>0.028596</td>\n",
       "    </tr>\n",
       "    <tr>\n",
       "      <th>9.0</th>\n",
       "      <td>0.035085</td>\n",
       "      <td>0.020181</td>\n",
       "      <td>0.025487</td>\n",
       "      <td>0.022252</td>\n",
       "      <td>0.016173</td>\n",
       "      <td>0.019796</td>\n",
       "      <td>0.020999</td>\n",
       "      <td>0.021440</td>\n",
       "      <td>0.026389</td>\n",
       "      <td>0.125312</td>\n",
       "    </tr>\n",
       "  </tbody>\n",
       "</table>\n",
       "</div>"
      ],
      "text/plain": [
       "test_era        0.0       1.0       2.0       3.0       4.0       5.0  \\\n",
       "train_era                                                               \n",
       "0.0        0.143808 -0.000806  0.000824  0.000188 -0.001430  0.002252   \n",
       "1.0        0.060162  0.121323  0.039606  0.034177  0.018525  0.028195   \n",
       "2.0        0.049540  0.042736  0.114000  0.044505  0.013907  0.039354   \n",
       "3.0        0.037899  0.038112  0.045665  0.110567  0.022557  0.030157   \n",
       "4.0        0.020030  0.022599  0.018177  0.028908  0.107088  0.024231   \n",
       "5.0        0.045415  0.029621  0.039375  0.027686  0.019383  0.124721   \n",
       "6.0        0.057582  0.035927  0.035248  0.041284  0.014665  0.039535   \n",
       "7.0        0.034167  0.033193  0.022555  0.023080  0.014727  0.025765   \n",
       "8.0        0.047096  0.043263  0.029539  0.036681  0.015168  0.031664   \n",
       "9.0        0.035085  0.020181  0.025487  0.022252  0.016173  0.019796   \n",
       "\n",
       "test_era        6.0       7.0       8.0       9.0  \n",
       "train_era                                          \n",
       "0.0       -0.000944  0.004368 -0.002137 -0.001903  \n",
       "1.0        0.032495  0.031023  0.036293  0.023989  \n",
       "2.0        0.036806  0.020589  0.027494  0.027639  \n",
       "3.0        0.042965  0.024353  0.036091  0.025125  \n",
       "4.0        0.016406  0.015862  0.016945  0.019393  \n",
       "5.0        0.033950  0.024111  0.024237  0.020672  \n",
       "6.0        0.111763  0.035009  0.030193  0.018332  \n",
       "7.0        0.034714  0.102627  0.036306  0.020604  \n",
       "8.0        0.034829  0.038023  0.105180  0.028596  \n",
       "9.0        0.020999  0.021440  0.026389  0.125312  "
      ]
     },
     "execution_count": 38,
     "metadata": {},
     "output_type": "execute_result"
    },
    {
     "name": "stdout",
     "output_type": "stream",
     "text": [
      "\r"
     ]
    }
   ],
   "source": [
    "results_df = pd.DataFrame(\n",
    "    results15_linear,\n",
    "    columns=[\"train_era\", \"test_era\", \"score\"]\n",
    ").pivot(index=\"train_era\", columns=\"test_era\", values=\"score\")\n",
    "results_df"
   ]
  },
  {
   "cell_type": "code",
   "execution_count": null,
   "id": "146eb292-f8e7-48f6-856f-82ee6091535f",
   "metadata": {
    "gradient": {
     "editing": false,
     "execution_count": 35,
     "id": "146eb292-f8e7-48f6-856f-82ee6091535f",
     "kernelId": "5d88e8f8-e278-4716-bc61-6fbffda985f3"
    }
   },
   "outputs": [
    {
     "name": "stdout",
     "output_type": "stream",
     "text": [
      "\r"
     ]
    }
   ],
   "source": [
    "param_grid = {\n",
    "    'n_estimators': 50, \n",
    "    'learning_rate': 0.01, \n",
    "    'num_leaves': 25, \n",
    "    'max_depth': 6, \n",
    "    'colsample_bytree': 0.1,\n",
    "    \"max_bin\": 50,\n",
    "}"
   ]
  },
  {
   "cell_type": "code",
   "execution_count": null,
   "id": "21adb81b-d8f3-4d23-8bf7-5b7673853c61",
   "metadata": {
    "gradient": {
     "execution_count": 36,
     "id": "21adb81b-d8f3-4d23-8bf7-5b7673853c61",
     "kernelId": "5d88e8f8-e278-4716-bc61-6fbffda985f3"
    }
   },
   "outputs": [
    {
     "name": "stdout",
     "output_type": "stream",
     "text": [
      "0.0\n",
      "1.0\n",
      "2.0\n",
      "3.0\n",
      "4.0\n",
      "5.0\n",
      "6.0\n",
      "7.0\n",
      "8.0\n",
      "9.0\n",
      "\r"
     ]
    }
   ],
   "source": [
    "results15_lgb = []\n",
    "for train_era, tdf in training_data.groupby(era_groups_15):\n",
    "    print(train_era)\n",
    "    model = lightgbm.LGBMRegressor(**param_grid)\n",
    "    model.fit(tdf[features], tdf[TARGET_COL])\n",
    "    for test_era, tdf in training_data.groupby(era_groups_15):\n",
    "        results15_lgb.append([\n",
    "            train_era,\n",
    "            test_era,\n",
    "            np.corrcoef(tdf[TARGET_COL], model.predict(tdf[features]))[0][1]\n",
    "        ])"
   ]
  },
  {
   "cell_type": "code",
   "execution_count": null,
   "id": "9ff38eb3-a587-42d6-a99a-225380d968e6",
   "metadata": {
    "gradient": {
     "execution_count": 39,
     "id": "9ff38eb3-a587-42d6-a99a-225380d968e6",
     "kernelId": "5d88e8f8-e278-4716-bc61-6fbffda985f3"
    }
   },
   "outputs": [
    {
     "data": {
      "text/html": [
       "<div>\n",
       "<style scoped>\n",
       "    .dataframe tbody tr th:only-of-type {\n",
       "        vertical-align: middle;\n",
       "    }\n",
       "\n",
       "    .dataframe tbody tr th {\n",
       "        vertical-align: top;\n",
       "    }\n",
       "\n",
       "    .dataframe thead th {\n",
       "        text-align: right;\n",
       "    }\n",
       "</style>\n",
       "<table border=\"1\" class=\"dataframe\">\n",
       "  <thead>\n",
       "    <tr style=\"text-align: right;\">\n",
       "      <th>test_era</th>\n",
       "      <th>0.0</th>\n",
       "      <th>1.0</th>\n",
       "      <th>2.0</th>\n",
       "      <th>3.0</th>\n",
       "      <th>4.0</th>\n",
       "      <th>5.0</th>\n",
       "      <th>6.0</th>\n",
       "      <th>7.0</th>\n",
       "      <th>8.0</th>\n",
       "      <th>9.0</th>\n",
       "    </tr>\n",
       "    <tr>\n",
       "      <th>train_era</th>\n",
       "      <th></th>\n",
       "      <th></th>\n",
       "      <th></th>\n",
       "      <th></th>\n",
       "      <th></th>\n",
       "      <th></th>\n",
       "      <th></th>\n",
       "      <th></th>\n",
       "      <th></th>\n",
       "      <th></th>\n",
       "    </tr>\n",
       "  </thead>\n",
       "  <tbody>\n",
       "    <tr>\n",
       "      <th>0.0</th>\n",
       "      <td>0.251231</td>\n",
       "      <td>0.047975</td>\n",
       "      <td>0.054918</td>\n",
       "      <td>0.046599</td>\n",
       "      <td>0.022815</td>\n",
       "      <td>0.049804</td>\n",
       "      <td>0.048839</td>\n",
       "      <td>0.026217</td>\n",
       "      <td>0.029477</td>\n",
       "      <td>0.029671</td>\n",
       "    </tr>\n",
       "    <tr>\n",
       "      <th>1.0</th>\n",
       "      <td>0.060887</td>\n",
       "      <td>0.238206</td>\n",
       "      <td>0.042640</td>\n",
       "      <td>0.041455</td>\n",
       "      <td>0.024390</td>\n",
       "      <td>0.040031</td>\n",
       "      <td>0.037074</td>\n",
       "      <td>0.032583</td>\n",
       "      <td>0.035300</td>\n",
       "      <td>0.029399</td>\n",
       "    </tr>\n",
       "    <tr>\n",
       "      <th>2.0</th>\n",
       "      <td>0.057852</td>\n",
       "      <td>0.039503</td>\n",
       "      <td>0.209174</td>\n",
       "      <td>0.049845</td>\n",
       "      <td>0.016782</td>\n",
       "      <td>0.041633</td>\n",
       "      <td>0.046184</td>\n",
       "      <td>0.030043</td>\n",
       "      <td>0.037460</td>\n",
       "      <td>0.033892</td>\n",
       "    </tr>\n",
       "    <tr>\n",
       "      <th>3.0</th>\n",
       "      <td>0.056256</td>\n",
       "      <td>0.048074</td>\n",
       "      <td>0.052817</td>\n",
       "      <td>0.218505</td>\n",
       "      <td>0.023944</td>\n",
       "      <td>0.044742</td>\n",
       "      <td>0.046649</td>\n",
       "      <td>0.023708</td>\n",
       "      <td>0.037166</td>\n",
       "      <td>0.031287</td>\n",
       "    </tr>\n",
       "    <tr>\n",
       "      <th>4.0</th>\n",
       "      <td>0.024793</td>\n",
       "      <td>0.026840</td>\n",
       "      <td>0.025077</td>\n",
       "      <td>0.027117</td>\n",
       "      <td>0.206046</td>\n",
       "      <td>0.020896</td>\n",
       "      <td>0.027900</td>\n",
       "      <td>0.021942</td>\n",
       "      <td>0.023489</td>\n",
       "      <td>0.020160</td>\n",
       "    </tr>\n",
       "    <tr>\n",
       "      <th>5.0</th>\n",
       "      <td>0.057634</td>\n",
       "      <td>0.043895</td>\n",
       "      <td>0.036645</td>\n",
       "      <td>0.042045</td>\n",
       "      <td>0.018775</td>\n",
       "      <td>0.232342</td>\n",
       "      <td>0.045553</td>\n",
       "      <td>0.030033</td>\n",
       "      <td>0.031503</td>\n",
       "      <td>0.023372</td>\n",
       "    </tr>\n",
       "    <tr>\n",
       "      <th>6.0</th>\n",
       "      <td>0.064786</td>\n",
       "      <td>0.050004</td>\n",
       "      <td>0.047546</td>\n",
       "      <td>0.049746</td>\n",
       "      <td>0.026886</td>\n",
       "      <td>0.048500</td>\n",
       "      <td>0.217203</td>\n",
       "      <td>0.047102</td>\n",
       "      <td>0.038089</td>\n",
       "      <td>0.035920</td>\n",
       "    </tr>\n",
       "    <tr>\n",
       "      <th>7.0</th>\n",
       "      <td>0.045510</td>\n",
       "      <td>0.038777</td>\n",
       "      <td>0.037613</td>\n",
       "      <td>0.033623</td>\n",
       "      <td>0.024412</td>\n",
       "      <td>0.037812</td>\n",
       "      <td>0.056646</td>\n",
       "      <td>0.231976</td>\n",
       "      <td>0.035369</td>\n",
       "      <td>0.034393</td>\n",
       "    </tr>\n",
       "    <tr>\n",
       "      <th>8.0</th>\n",
       "      <td>0.041621</td>\n",
       "      <td>0.038479</td>\n",
       "      <td>0.035298</td>\n",
       "      <td>0.042339</td>\n",
       "      <td>0.021756</td>\n",
       "      <td>0.036776</td>\n",
       "      <td>0.041690</td>\n",
       "      <td>0.032927</td>\n",
       "      <td>0.214813</td>\n",
       "      <td>0.030360</td>\n",
       "    </tr>\n",
       "    <tr>\n",
       "      <th>9.0</th>\n",
       "      <td>0.039390</td>\n",
       "      <td>0.033050</td>\n",
       "      <td>0.034410</td>\n",
       "      <td>0.039147</td>\n",
       "      <td>0.016048</td>\n",
       "      <td>0.029661</td>\n",
       "      <td>0.032762</td>\n",
       "      <td>0.026197</td>\n",
       "      <td>0.028076</td>\n",
       "      <td>0.293467</td>\n",
       "    </tr>\n",
       "  </tbody>\n",
       "</table>\n",
       "</div>"
      ],
      "text/plain": [
       "test_era        0.0       1.0       2.0       3.0       4.0       5.0  \\\n",
       "train_era                                                               \n",
       "0.0        0.251231  0.047975  0.054918  0.046599  0.022815  0.049804   \n",
       "1.0        0.060887  0.238206  0.042640  0.041455  0.024390  0.040031   \n",
       "2.0        0.057852  0.039503  0.209174  0.049845  0.016782  0.041633   \n",
       "3.0        0.056256  0.048074  0.052817  0.218505  0.023944  0.044742   \n",
       "4.0        0.024793  0.026840  0.025077  0.027117  0.206046  0.020896   \n",
       "5.0        0.057634  0.043895  0.036645  0.042045  0.018775  0.232342   \n",
       "6.0        0.064786  0.050004  0.047546  0.049746  0.026886  0.048500   \n",
       "7.0        0.045510  0.038777  0.037613  0.033623  0.024412  0.037812   \n",
       "8.0        0.041621  0.038479  0.035298  0.042339  0.021756  0.036776   \n",
       "9.0        0.039390  0.033050  0.034410  0.039147  0.016048  0.029661   \n",
       "\n",
       "test_era        6.0       7.0       8.0       9.0  \n",
       "train_era                                          \n",
       "0.0        0.048839  0.026217  0.029477  0.029671  \n",
       "1.0        0.037074  0.032583  0.035300  0.029399  \n",
       "2.0        0.046184  0.030043  0.037460  0.033892  \n",
       "3.0        0.046649  0.023708  0.037166  0.031287  \n",
       "4.0        0.027900  0.021942  0.023489  0.020160  \n",
       "5.0        0.045553  0.030033  0.031503  0.023372  \n",
       "6.0        0.217203  0.047102  0.038089  0.035920  \n",
       "7.0        0.056646  0.231976  0.035369  0.034393  \n",
       "8.0        0.041690  0.032927  0.214813  0.030360  \n",
       "9.0        0.032762  0.026197  0.028076  0.293467  "
      ]
     },
     "execution_count": 39,
     "metadata": {},
     "output_type": "execute_result"
    },
    {
     "name": "stdout",
     "output_type": "stream",
     "text": [
      "\r"
     ]
    }
   ],
   "source": [
    "results_df_lgb_15 = pd.DataFrame(\n",
    "    results15_lgb,\n",
    "    columns=[\"train_era\", \"test_era\", \"score\"]\n",
    ").pivot(index=\"train_era\", columns=\"test_era\", values=\"score\")\n",
    "results_df_lgb_15"
   ]
  },
  {
   "cell_type": "code",
   "execution_count": null,
   "id": "276091d9-d61b-45b3-96f0-b6616ab7201f",
   "metadata": {
    "gradient": {
     "execution_count": 40,
     "id": "276091d9-d61b-45b3-96f0-b6616ab7201f",
     "kernelId": "5d88e8f8-e278-4716-bc61-6fbffda985f3"
    }
   },
   "outputs": [
    {
     "data": {
      "text/plain": [
       "<matplotlib.image.AxesImage at 0x7fd53a7924f0>"
      ]
     },
     "execution_count": 40,
     "metadata": {},
     "output_type": "execute_result"
    },
    {
     "data": {
      "image/png": "[encoded data removed]",
      "text/plain": [
       "<Figure size 1080x1080 with 1 Axes>"
      ]
     },
     "metadata": {
      "needs_background": "light"
     },
     "output_type": "display_data"
    },
    {
     "name": "stdout",
     "output_type": "stream",
     "text": [
      "\r"
     ]
    }
   ],
   "source": [
    "import matplotlib.pyplot as plt\n",
    "\n",
    "plt.figure(figsize=(15,15))\n",
    "plt.imshow(results_df, vmin=-0.04, vmax=0.04, cmap=\"RdYlGn\")"
   ]
  },
  {
   "cell_type": "code",
   "execution_count": null,
   "id": "2473a069-d2ca-416a-9e41-0bed05e2e3b9",
   "metadata": {
    "gradient": {
     "execution_count": 41,
     "id": "2473a069-d2ca-416a-9e41-0bed05e2e3b9",
     "kernelId": "5d88e8f8-e278-4716-bc61-6fbffda985f3"
    }
   },
   "outputs": [
    {
     "data": {
      "text/plain": [
       "<matplotlib.image.AxesImage at 0x7fd53a761730>"
      ]
     },
     "execution_count": 41,
     "metadata": {},
     "output_type": "execute_result"
    },
    {
     "data": {
      "image/png": "[encoded data removed]",
      "text/plain": [
       "<Figure size 1080x1080 with 1 Axes>"
      ]
     },
     "metadata": {
      "needs_background": "light"
     },
     "output_type": "display_data"
    },
    {
     "name": "stdout",
     "output_type": "stream",
     "text": [
      "\r"
     ]
    }
   ],
   "source": [
    "plt.figure(figsize=(15,15))\n",
    "plt.imshow(results_df_lgb_15, vmin=-0.04, vmax=0.04, cmap=\"RdYlGn\")"
   ]
  },
  {
   "cell_type": "markdown",
   "id": "08a82433-f548-4c16-bab0-4dfcf64e37df",
   "metadata": {},
   "source": [
    "## Observations\n",
    "Again, the linear model does very badly when trained on group 0 (which is every 4th era from 1-60) \\\n",
    "when trained on group 9 (every 4th era from 540-574) it also does badly, but this might be due to little training data \\\n",
    "\n",
    "# Idea\n",
    "Train a linear model Not on group 0, on groups 1, 2, 3 (every 4th from 60-240), NOT on 4, (every 4th from 240-300) one on 5 and 6 (every 4th from 300-420) and one on 7 and 8 (every 4th from 420-540), then ensemble (maybe using random forest?), then maybe use permutation feature importance and drop hurting features?"
   ]
  },
  {
   "cell_type": "code",
   "execution_count": null,
   "id": "5bc961f4-a241-4352-9fbd-c496634c10b1",
   "metadata": {
    "gradient": {
     "id": "5bc961f4-a241-4352-9fbd-c496634c10b1",
     "kernelId": "5d88e8f8-e278-4716-bc61-6fbffda985f3"
    }
   },
   "outputs": [],
   "source": []
  }
 ],
 "metadata": {
  "kernelspec": {
   "display_name": "Python 3 (ipykernel)",
   "language": "python",
   "name": "python3"
  },
  "language_info": {
   "codemirror_mode": {
    "name": "ipython",
    "version": 3
   },
   "file_extension": ".py",
   "mimetype": "text/x-python",
   "name": "python",
   "nbconvert_exporter": "python",
   "pygments_lexer": "ipython3",
   "version": "3.9.7"
  }
 },
 "nbformat": 4,
 "nbformat_minor": 5
}
